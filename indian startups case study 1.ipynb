{
 "cells": [
  {
   "cell_type": "code",
   "execution_count": 13,
   "metadata": {},
   "outputs": [],
   "source": [
    "import numpy as np\n",
    "import pandas as pd\n",
    "import matplotlib.pyplot as plt"
   ]
  },
  {
   "cell_type": "code",
   "execution_count": null,
   "metadata": {},
   "outputs": [],
   "source": [
    "''' This dataset has funding information of the Indian startups from January 2015 to August 2017.\n",
    "Feature Details :\n",
    "SNo - Serial number.\n",
    "Date - Date of funding in format DD/MM/YYYY.\n",
    "StartupName - Name of the startup which got funded.\n",
    "IndustryVertical - Industry to which the startup belongs.\n",
    "SubVertical - Sub-category of the industry type.\n",
    "CityLocation - City which the startup is based out of.\n",
    "InvestorsName - Name of the investors involved in the funding round.\n",
    "InvestmentType - Either Private Equity or Seed Funding.\n",
    "AmountInUSD - Funding Amount in USD.\n",
    "Remarks - Other information, if any.\n",
    "'''"
   ]
  },
  {
   "cell_type": "markdown",
   "metadata": {},
   "source": [
    "### Printing the top 5 rows of the dataframe to have a glimpse of what type of data is stored."
   ]
  },
  {
   "cell_type": "code",
   "execution_count": 3,
   "metadata": {},
   "outputs": [
    {
     "data": {
      "text/html": [
       "<div>\n",
       "<style scoped>\n",
       "    .dataframe tbody tr th:only-of-type {\n",
       "        vertical-align: middle;\n",
       "    }\n",
       "\n",
       "    .dataframe tbody tr th {\n",
       "        vertical-align: top;\n",
       "    }\n",
       "\n",
       "    .dataframe thead th {\n",
       "        text-align: right;\n",
       "    }\n",
       "</style>\n",
       "<table border=\"1\" class=\"dataframe\">\n",
       "  <thead>\n",
       "    <tr style=\"text-align: right;\">\n",
       "      <th></th>\n",
       "      <th>SNo</th>\n",
       "      <th>Date</th>\n",
       "      <th>StartupName</th>\n",
       "      <th>IndustryVertical</th>\n",
       "      <th>SubVertical</th>\n",
       "      <th>CityLocation</th>\n",
       "      <th>InvestorsName</th>\n",
       "      <th>InvestmentType</th>\n",
       "      <th>AmountInUSD</th>\n",
       "      <th>Remarks</th>\n",
       "    </tr>\n",
       "  </thead>\n",
       "  <tbody>\n",
       "    <tr>\n",
       "      <th>0</th>\n",
       "      <td>0</td>\n",
       "      <td>01/08/2017</td>\n",
       "      <td>TouchKin</td>\n",
       "      <td>Technology</td>\n",
       "      <td>Predictive Care Platform</td>\n",
       "      <td>Bangalore</td>\n",
       "      <td>Kae Capital</td>\n",
       "      <td>Private Equity</td>\n",
       "      <td>1,300,000</td>\n",
       "      <td>NaN</td>\n",
       "    </tr>\n",
       "    <tr>\n",
       "      <th>1</th>\n",
       "      <td>1</td>\n",
       "      <td>02/08/2017</td>\n",
       "      <td>Ethinos</td>\n",
       "      <td>Technology</td>\n",
       "      <td>Digital Marketing Agency</td>\n",
       "      <td>Mumbai</td>\n",
       "      <td>Triton Investment Advisors</td>\n",
       "      <td>Private Equity</td>\n",
       "      <td>NaN</td>\n",
       "      <td>NaN</td>\n",
       "    </tr>\n",
       "    <tr>\n",
       "      <th>2</th>\n",
       "      <td>2</td>\n",
       "      <td>02/08/2017</td>\n",
       "      <td>Leverage Edu</td>\n",
       "      <td>Consumer Internet</td>\n",
       "      <td>Online platform for Higher Education Services</td>\n",
       "      <td>New Delhi</td>\n",
       "      <td>Kashyap Deorah, Anand Sankeshwar, Deepak Jain,...</td>\n",
       "      <td>Seed Funding</td>\n",
       "      <td>NaN</td>\n",
       "      <td>NaN</td>\n",
       "    </tr>\n",
       "    <tr>\n",
       "      <th>3</th>\n",
       "      <td>3</td>\n",
       "      <td>02/08/2017</td>\n",
       "      <td>Zepo</td>\n",
       "      <td>Consumer Internet</td>\n",
       "      <td>DIY Ecommerce platform</td>\n",
       "      <td>Mumbai</td>\n",
       "      <td>Kunal Shah, LetsVenture, Anupam Mittal, Hetal ...</td>\n",
       "      <td>Seed Funding</td>\n",
       "      <td>500,000</td>\n",
       "      <td>NaN</td>\n",
       "    </tr>\n",
       "    <tr>\n",
       "      <th>4</th>\n",
       "      <td>4</td>\n",
       "      <td>02/08/2017</td>\n",
       "      <td>Click2Clinic</td>\n",
       "      <td>Consumer Internet</td>\n",
       "      <td>healthcare service aggregator</td>\n",
       "      <td>Hyderabad</td>\n",
       "      <td>Narottam Thudi, Shireesh Palle</td>\n",
       "      <td>Seed Funding</td>\n",
       "      <td>850,000</td>\n",
       "      <td>NaN</td>\n",
       "    </tr>\n",
       "  </tbody>\n",
       "</table>\n",
       "</div>"
      ],
      "text/plain": [
       "   SNo        Date   StartupName   IndustryVertical  \\\n",
       "0    0  01/08/2017      TouchKin         Technology   \n",
       "1    1  02/08/2017       Ethinos         Technology   \n",
       "2    2  02/08/2017  Leverage Edu  Consumer Internet   \n",
       "3    3  02/08/2017          Zepo  Consumer Internet   \n",
       "4    4  02/08/2017  Click2Clinic  Consumer Internet   \n",
       "\n",
       "                                     SubVertical CityLocation  \\\n",
       "0                       Predictive Care Platform    Bangalore   \n",
       "1                       Digital Marketing Agency       Mumbai   \n",
       "2  Online platform for Higher Education Services    New Delhi   \n",
       "3                         DIY Ecommerce platform       Mumbai   \n",
       "4                  healthcare service aggregator    Hyderabad   \n",
       "\n",
       "                                       InvestorsName  InvestmentType  \\\n",
       "0                                        Kae Capital  Private Equity   \n",
       "1                         Triton Investment Advisors  Private Equity   \n",
       "2  Kashyap Deorah, Anand Sankeshwar, Deepak Jain,...    Seed Funding   \n",
       "3  Kunal Shah, LetsVenture, Anupam Mittal, Hetal ...    Seed Funding   \n",
       "4                     Narottam Thudi, Shireesh Palle    Seed Funding   \n",
       "\n",
       "  AmountInUSD Remarks  \n",
       "0   1,300,000     NaN  \n",
       "1         NaN     NaN  \n",
       "2         NaN     NaN  \n",
       "3     500,000     NaN  \n",
       "4     850,000     NaN  "
      ]
     },
     "execution_count": 3,
     "metadata": {},
     "output_type": "execute_result"
    }
   ],
   "source": [
    "df1 = pd.read_csv('startup_funding.csv')\n",
    "df = df1.copy()\n",
    "df.head()\n"
   ]
  },
  {
   "cell_type": "code",
   "execution_count": 5,
   "metadata": {},
   "outputs": [
    {
     "data": {
      "text/plain": [
       "(2372, 10)"
      ]
     },
     "execution_count": 5,
     "metadata": {},
     "output_type": "execute_result"
    }
   ],
   "source": [
    "df.shape"
   ]
  },
  {
   "cell_type": "code",
   "execution_count": 8,
   "metadata": {
    "scrolled": true
   },
   "outputs": [
    {
     "data": {
      "text/plain": [
       "SNo                    0\n",
       "Date                   0\n",
       "StartupName            0\n",
       "IndustryVertical     171\n",
       "SubVertical          936\n",
       "CityLocation         179\n",
       "InvestorsName          8\n",
       "InvestmentType         1\n",
       "AmountInUSD          847\n",
       "Remarks             1953\n",
       "dtype: int64"
      ]
     },
     "execution_count": 8,
     "metadata": {},
     "output_type": "execute_result"
    }
   ],
   "source": [
    "df.isnull().sum()"
   ]
  },
  {
   "cell_type": "markdown",
   "metadata": {},
   "source": [
    "### 1 . Checking the trend of investments by plotting number of fundings done in each year."
   ]
  },
  {
   "cell_type": "code",
   "execution_count": 9,
   "metadata": {},
   "outputs": [
    {
     "data": {
      "text/plain": [
       "dtype('O')"
      ]
     },
     "execution_count": 9,
     "metadata": {},
     "output_type": "execute_result"
    }
   ],
   "source": [
    "## need to extract year from Date column\n",
    "df.Date.dtype"
   ]
  },
  {
   "cell_type": "code",
   "execution_count": 46,
   "metadata": {},
   "outputs": [],
   "source": [
    "## to find out issues in Date column like . and // in place of / in some dates .\n",
    "unique_dates = df.Date.unique().tolist()\n",
    "##unique_dates"
   ]
  },
  {
   "cell_type": "code",
   "execution_count": 12,
   "metadata": {},
   "outputs": [
    {
     "data": {
      "image/png": "[encoded data removed]",
      "text/plain": [
       "<Figure size 432x288 with 1 Axes>"
      ]
     },
     "metadata": {
      "needs_background": "light"
     },
     "output_type": "display_data"
    },
    {
     "name": "stdout",
     "output_type": "stream",
     "text": [
      "Year :  2015 , No. of fundings :  936\n",
      "Year :  2016 , No. of fundings :  993\n",
      "Year :  2017 , No. of fundings :  443\n"
     ]
    }
   ],
   "source": [
    "## removing issue in Date column\n",
    "df.Date = df.Date.str.replace('.','/' )\n",
    "df.Date = df.Date.str.replace('//','/')\n",
    "## extracting year from date column\n",
    "year = df.Date.str.split('/' , expand = True)[2]\n",
    "## sorting year in chronological order\n",
    "year =  year.value_counts().sort_index()\n",
    "x = year.index\n",
    "y = year.values\n",
    "## plotting line plot\n",
    "plt.plot(x,y)\n",
    "plt.title('Trend of investments')\n",
    "plt.xlabel(\"Year\")\n",
    "plt.ylabel(\"Number of Fundings\")\n",
    "plt.show()\n",
    "for i in range(3):\n",
    "    print('Year : ' , x[i],', No. of fundings : ' , y[i])"
   ]
  },
  {
   "cell_type": "markdown",
   "metadata": {},
   "source": [
    "### 2. Top 10 Indian cities which have most number of startups ."
   ]
  },
  {
   "cell_type": "code",
   "execution_count": 50,
   "metadata": {},
   "outputs": [
    {
     "data": {
      "text/plain": [
       "' On analysing CityLocation column i found some issues in city names \\n like bangalore and bangalore , Delhi and New delhi as shown.\\n Also for few startups multiple locations are given, one Indian and one Foreign. i have counted those startups\\n in Indian startup also after analysing the dataset. \\n '"
      ]
     },
     "execution_count": 50,
     "metadata": {},
     "output_type": "execute_result"
    }
   ],
   "source": [
    "''' On analysing CityLocation column i found some issues in city names \n",
    " like bangalore and bangalore , Delhi and New delhi as shown.\n",
    " Also for few startups multiple locations are given, one Indian and one Foreign. i have counted those startups\n",
    " in Indian startup also after analysing the dataset. \n",
    " '''\n",
    "##df.CityLocation.unique().tolist()"
   ]
  },
  {
   "cell_type": "code",
   "execution_count": 20,
   "metadata": {},
   "outputs": [],
   "source": [
    "## droppping rows having NaN values in CityLocation column\n",
    "dftemp = df.copy()\n",
    "dftemp.CityLocation.dropna(inplace = True)\n",
    "## sorting out issues in city names\n",
    "def separateCity(city):\n",
    "    return city.split('/')[0].strip()\n",
    "\n",
    "dftemp.CityLocation = dftemp.CityLocation.apply(separateCity)\n",
    "dftemp.CityLocation.replace('Delhi','New Delhi' , inplace = True)\n",
    "dftemp.CityLocation.replace('bangalore' , 'Bangalore' , inplace = True)"
   ]
  },
  {
   "cell_type": "code",
   "execution_count": 21,
   "metadata": {},
   "outputs": [
    {
     "data": {
      "image/png": "[encoded data removed]",
      "text/plain": [
       "<Figure size 1080x648 with 1 Axes>"
      ]
     },
     "metadata": {},
     "output_type": "display_data"
    },
    {
     "name": "stdout",
     "output_type": "stream",
     "text": [
      "City :  Bangalore  , Number of Startups : 627\n",
      "City :  Mumbai  , Number of Startups : 446\n",
      "City :  New Delhi  , Number of Startups : 381\n",
      "City :  Gurgaon  , Number of Startups : 240\n",
      "City :  Pune  , Number of Startups : 84\n",
      "City :  Noida  , Number of Startups : 78\n",
      "City :  Hyderabad  , Number of Startups : 76\n",
      "City :  Chennai  , Number of Startups : 66\n",
      "City :  Ahmedabad  , Number of Startups : 35\n",
      "City :  Jaipur  , Number of Startups : 25\n"
     ]
    }
   ],
   "source": [
    "## Counting startups in each city \n",
    "city_num = df.CityLocation.value_counts()[0:10]\n",
    "city = city_num.index\n",
    "num_city = city_num.values\n",
    "## plotting a pie chart shwoing percentage share of each city in no. of startups they have \n",
    "plt.rcParams['figure.figsize'] = (15,9)\n",
    "plt.pie(num_city , labels = city , autopct='%.2f%%' , startangle = 90 , wedgeprops   = { 'linewidth' : 2,'edgecolor' : \"orange\" })\n",
    "plt.show()\n",
    "for i in range(len(city)):\n",
    "    print('City : ' , city[i] ,' , Number of Startups :' , num_city[i])\n"
   ]
  },
  {
   "cell_type": "markdown",
   "metadata": {},
   "source": [
    "### 3 .  Top 10 Indian cities with most amount of fundings received. Also calculating percentage of funding each city has got (among top 10 Indian cities only)."
   ]
  },
  {
   "cell_type": "code",
   "execution_count": 29,
   "metadata": {},
   "outputs": [
    {
     "name": "stdout",
     "output_type": "stream",
     "text": [
      "Bangalore 49.71 %\n",
      "New Delhi 16.63 %\n",
      "Mumbai 13.90 %\n",
      "Gurgaon 12.21 %\n",
      "Chennai 2.43 %\n",
      "Pune 2.16 %\n",
      "Hyderabad 1.15 %\n",
      "Noida 1.01 %\n",
      "Ahmedabad 0.58 %\n",
      "Jaipur 0.21 %\n"
     ]
    }
   ],
   "source": [
    "dftemp = df.copy()\n",
    "dftemp.CityLocation.dropna(inplace = True)\n",
    "\n",
    "def separateCity(city):\n",
    "    return city.split('/')[0].strip()\n",
    "\n",
    "dftemp.CityLocation = dftemp.CityLocation.apply(separateCity)\n",
    "dftemp.CityLocation.replace('Delhi','New Delhi' , inplace = True)\n",
    "dftemp.CityLocation.replace('bangalore' , 'Bangalore' , inplace = True)\n",
    "## Removing ',' in Amount column and converting it to integer\n",
    "dftemp.AmountInUSD = dftemp.AmountInUSD.apply(lambda x : float(str(x).replace(',','')))\n",
    "dftemp.AmountInUSD = pd.to_numeric(dftemp.AmountInUSD)\n",
    "## Calculating citywise amount of funding received.\n",
    "city_amount = dftemp.groupby('CityLocation')['AmountInUSD'].sum().sort_values(ascending = False)[0:10]\n",
    "city = city_amount.index\n",
    "amountCity = city_amount.values\n",
    "## calculating percentage of the funding each city has received .\n",
    "perAmount = np.true_divide(amountCity , amountCity.sum())*100\n",
    "\n",
    "for i in range(len(city)):\n",
    "    print(city[i] , format(perAmount[i], '.2f'),'%')"
   ]
  },
  {
   "cell_type": "markdown",
   "metadata": {},
   "source": [
    "### 4. Percentage of amount funded for each investment type ( there are 4 investment types)."
   ]
  },
  {
   "cell_type": "code",
   "execution_count": 47,
   "metadata": {},
   "outputs": [],
   "source": [
    "## finding spelling mistakes in Investmenttype column .\n",
    "##df.InvestmentType.unique().tolist()"
   ]
  },
  {
   "cell_type": "code",
   "execution_count": 32,
   "metadata": {},
   "outputs": [
    {
     "data": {
      "image/png": "[encoded data removed]",
      "text/plain": [
       "<Figure size 1080x648 with 1 Axes>"
      ]
     },
     "metadata": {},
     "output_type": "display_data"
    },
    {
     "name": "stdout",
     "output_type": "stream",
     "text": [
      "Private Equity 98.15\n",
      "Seed Funding 1.81\n",
      "Debt Funding 0.04\n",
      "Crowd Funding 0.00\n"
     ]
    }
   ],
   "source": [
    "##correcting spelling mistakes in Investmenttype column.\n",
    "dftemp = df.copy()\n",
    "dftemp.InvestmentType.replace('SeedFunding' , 'Seed Funding' , inplace = True)\n",
    "dftemp.InvestmentType.replace('PrivateEquity' , 'Private Equity' , inplace = True)\n",
    "dftemp.InvestmentType.replace('Crowd funding' , 'Crowd Funding' , inplace = True)\n",
    "\n",
    "dftemp.AmountInUSD = dftemp.AmountInUSD.apply(lambda x : float(str(x).replace(',','')))\n",
    "dftemp.AmountInUSD = pd.to_numeric(dftemp.AmountInUSD)\n",
    "##Calculating amount for each investment type and arranging in descending order on the basis of amount .\n",
    "investmentamount = dftemp.groupby('InvestmentType')['AmountInUSD'].sum().sort_values(ascending = False)[0:4]\n",
    "investmenttype = investmentamount.index\n",
    "amount = investmentamount.values\n",
    "## plotting pie chart .\n",
    "##plt.rcParams['figure.figsize'] = (15,9)\n",
    "plt.pie(amount , labels = investmenttype ,autopct='%.2f%%' , startangle = 90 ,shadow = True,wedgeprops   = { 'linewidth' : 2,'edgecolor' : \"orange\" })\n",
    "plt.show()\n",
    "## calculating percentage amount for each city .\n",
    "peramount = np.true_divide(amount , amount.sum())*100\n",
    "\n",
    "for i in range(4):\n",
    "    print(investmenttype[i] , format(peramount[i] ,'.2f'))"
   ]
  },
  {
   "cell_type": "markdown",
   "metadata": {},
   "source": [
    "### 5. Top 5 industries and percentage of the total amount funded to that industry. (among top 5 only)"
   ]
  },
  {
   "cell_type": "code",
   "execution_count": 48,
   "metadata": {},
   "outputs": [],
   "source": [
    "## finding title and non-title case issue in industry name as shown.\n",
    "##df.IndustryVertical.unique().tolist()"
   ]
  },
  {
   "cell_type": "code",
   "execution_count": 35,
   "metadata": {},
   "outputs": [
    {
     "name": "stdout",
     "output_type": "stream",
     "text": [
      "Ecommerce 40.53\n",
      "Consumer Internet 35.95\n",
      "Technology 10.45\n",
      "Online Marketplace 6.63\n",
      "E-Commerce & M-Commerce platform 6.44\n"
     ]
    }
   ],
   "source": [
    "##correcting the above stated issue.\n",
    "df['IndustryVertical'].replace(\"ECommerce\",\"Ecommerce\", inplace = True)\n",
    "df['IndustryVertical'].replace(\"eCommerce\",\"Ecommerce\", inplace = True)\n",
    "df['IndustryVertical'].replace(\"ecommerce\",\"Ecommerce\", inplace = True)\n",
    "\n",
    "## converting amount to int type\n",
    "df.AmountInUSD = df.AmountInUSD.apply(lambda x : float(str(x).replace(',','')))\n",
    "df.AmountInUSD = pd.to_numeric(df.AmountInUSD)\n",
    "\n",
    "##calculating industry wise amount\n",
    "ivc = df.groupby('IndustryVertical')['AmountInUSD'].sum().sort_values(ascending = False)[0:5]\n",
    "industry = ivc.index\n",
    "amount = ivc.values\n",
    "## calculating the percentage of total amount funded .\n",
    "per = np.true_divide(amount  , amount.sum())*100\n",
    "\n",
    "for i in range(5):\n",
    "    print(industry[i] , format(per[i] , '.2f'))\n",
    "\n",
    "\n"
   ]
  },
  {
   "cell_type": "markdown",
   "metadata": {},
   "source": [
    "### 6. Top 5 startups with most amount of total funding"
   ]
  },
  {
   "cell_type": "code",
   "execution_count": 49,
   "metadata": {},
   "outputs": [],
   "source": [
    "## Correcting names of Ola, Flipkart, Oyo, Paytm startups .\n",
    "## below way works only when there are no NaN values , so to use this technique with other columns , drop NaN from\n",
    "## those columns\n",
    "##for i in np.unique(sorted(df.StartupName)):\n",
    "##    print(i)"
   ]
  },
  {
   "cell_type": "code",
   "execution_count": 41,
   "metadata": {},
   "outputs": [
    {
     "name": "stdout",
     "output_type": "stream",
     "text": [
      "Top 5 startups with most amount of funding in descng order are as follows : \n",
      "Paytm\n",
      "Flipkart\n",
      "Ola\n",
      "Snapdeal\n",
      "Oyo\n"
     ]
    }
   ],
   "source": [
    "reader = df1.copy()\n",
    "## correcting names \n",
    "reader['StartupName'].replace(\"Flipkart.com\", \"Flipkart\", inplace = True)\n",
    "reader['StartupName'].replace(\"Ola Cabs\", \"Ola\",inplace = True)\n",
    "reader['StartupName'].replace(\"Olacabs\", \"Ola\",inplace = True)\n",
    "reader['StartupName'].replace(\"OYO Rooms\", \"Oyo\",inplace = True)\n",
    "reader['StartupName'].replace(\"Oyo Rooms\", \"Oyo\",inplace = True)\n",
    "reader['StartupName'].replace(\"OyoRooms\", \"Oyo\",inplace = True)\n",
    "reader['StartupName'].replace(\"Oyorooms\", \"Oyo\",inplace = True)\n",
    "reader['StartupName'].replace(\"Paytm Marketplace\", \"Paytm\",inplace = True)\n",
    "## converting amount column to int\n",
    "reader['AmountInUSD'] = reader['AmountInUSD'].str.replace(',', '')\n",
    "reader['AmountInUSD'] = pd.to_numeric(reader['AmountInUSD'])\n",
    "## startup wise calculating amount.    \n",
    "invest = reader.groupby('StartupName')['AmountInUSD'].sum().sort_values(ascending = False)\n",
    "print('Top 5 startups with most amount of funding in descng order are as follows : ')\n",
    "for i in range(5):\n",
    "    print(invest.index[i])"
   ]
  },
  {
   "cell_type": "markdown",
   "metadata": {},
   "source": [
    "### 7. Top 5 startups that received the most number of funding rounds.(i.e. funding most number of times)"
   ]
  },
  {
   "cell_type": "code",
   "execution_count": 42,
   "metadata": {},
   "outputs": [
    {
     "name": "stdout",
     "output_type": "stream",
     "text": [
      "Ola 9\n",
      "Swiggy 7\n",
      "Oyo 6\n",
      "UrbanClap 6\n",
      "Paytm 6\n"
     ]
    }
   ],
   "source": [
    "## reader is the dataframe object \n",
    "startup_number = reader.StartupName.value_counts()\n",
    "su = startup_number.index\n",
    "val = startup_number.values\n",
    "for i in range(5):\n",
    "    print(su[i] , val[i])\n"
   ]
  },
  {
   "cell_type": "markdown",
   "metadata": {},
   "source": [
    "### 8 .The Investor who have invested maximum number of times."
   ]
  },
  {
   "cell_type": "code",
   "execution_count": 45,
   "metadata": {},
   "outputs": [
    {
     "name": "stdout",
     "output_type": "stream",
     "text": [
      "Sequoia Capital : 64 times\n"
     ]
    }
   ],
   "source": [
    "## removing rows having NA value in InvestorsName column\n",
    "df = df[pd.notna(df.InvestorsName)]\n",
    "inv_name = df.InvestorsName\n",
    "# a dictionary to store count of no. of times an investor has invested.\n",
    "d = {}\n",
    "for row in inv_name.iteritems():\n",
    "    ## as row[0] will contain row lable so using row[1] and splitting investor's name to get one name at a time in next for loop\n",
    "    v = row[1].split(',')\n",
    "    for i in v:\n",
    "        i = i.strip()\n",
    "        d[i] = d.get(i,0) + 1\n",
    "ans = -1\n",
    "val = ''\n",
    "for v in d:\n",
    "    if(d[v] > ans):\n",
    "        ans = d[v]\n",
    "        val = v\n",
    "print(val, ':' , int(ans) , 'times')"
   ]
  }
 ],
 "metadata": {
  "kernelspec": {
   "display_name": "Python 3",
   "language": "python",
   "name": "python3"
  },
  "language_info": {
   "codemirror_mode": {
    "name": "ipython",
    "version": 3
   },
   "file_extension": ".py",
   "mimetype": "text/x-python",
   "name": "python",
   "nbconvert_exporter": "python",
   "pygments_lexer": "ipython3",
   "version": "3.7.3"
  }
 },
 "nbformat": 4,
 "nbformat_minor": 2
}
