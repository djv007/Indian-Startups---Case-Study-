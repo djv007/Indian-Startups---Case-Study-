{
 "cells": [
  {
   "cell_type": "code",
   "execution_count": 28,
   "metadata": {},
   "outputs": [],
   "source": [
    "import pandas as pd\n",
    "import numpy as np\n",
    "import matplotlib.pyplot as plt\n"
   ]
  },
  {
   "cell_type": "markdown",
   "metadata": {},
   "source": [
    "### 1. Top 5 locations in which funding is being done maximum number of times ."
   ]
  },
  {
   "cell_type": "code",
   "execution_count": 23,
   "metadata": {},
   "outputs": [
    {
     "name": "stdout",
     "output_type": "stream",
     "text": [
      "NCR 709\n",
      "Bangalore 637\n",
      "Mumbai 449\n",
      "Pune 91\n",
      "Hyderabad 79\n"
     ]
    },
    {
     "data": {
      "image/png": "[encoded data removed]",
      "text/plain": [
       "<Figure size 432x288 with 1 Axes>"
      ]
     },
     "metadata": {
      "needs_background": "light"
     },
     "output_type": "display_data"
    }
   ],
   "source": [
    "dforiginal = pd.read_csv('startup_funding.csv')\n",
    "\n",
    "## This is being done to preserve original dataset\n",
    "df = dforiginal.copy()\n",
    "\n",
    "## dropping entries with NaN value in CityLocation column\n",
    "df.CityLocation.dropna(inplace = True)\n",
    "\n",
    "## removing few name issues in CityLocation column\n",
    "df.CityLocation.replace('Delhi' , 'New Delhi' , inplace = True)\n",
    "df.CityLocation.replace('bangalore' , 'Bangalore' , inplace = True)\n",
    "location = df.CityLocation\n",
    "\n",
    "## d stores location wise , no. of times funding is done in that location\n",
    "d = {}\n",
    "\n",
    "## As demanded in question , i have clubbed these 3 below given cities into NCR\n",
    "l = ['New Delhi' , 'Noida' , 'Gurgaon']\n",
    "\n",
    "## iterating in this location column \n",
    "for i in location:\n",
    "\n",
    "## As either a row contains 2 city names(i.e. '/' also) or 1 city just .So , consodering the former case in this if\n",
    "    if '/' in i:\n",
    "        k = i.split('/')\n",
    "\n",
    "## trimming extra spaces from left and right and storing in a list\n",
    "        k = list(map(str.strip, k))\n",
    "\n",
    "## as there are 2 cities in each row in this case(when '/' is there in location name) \n",
    "        for j in range(2):\n",
    "\n",
    "## handling separately for NCR location while inserting in dictionary\n",
    "            if k[j] in l:\n",
    "                d['NCR'] = d.get('NCR' , 0) + 1\n",
    "            else:\n",
    "                d[k[j]] = d.get(k[j],0) + 1\n",
    "\n",
    "## below case is for the rows having 1 city name in each row (i.e. without '/')\n",
    "    else:\n",
    "        i = i.strip()\n",
    "        if i in l:\n",
    "            d['NCR'] = d.get('NCR' , 0) + 1\n",
    "        else:\n",
    "            d[i] = d.get(i,0) + 1\n",
    "\n",
    "## x will store location name and y no. of times it is being funded\n",
    "x = []\n",
    "y = []\n",
    "\n",
    "## sorting dict d in descending order of values \n",
    "d = {k: v for k, v in sorted(d.items(), key=lambda item: item[1] , reverse = True)}\n",
    "count = 0\n",
    "\n",
    "## priting top 5 locations present in dict d and also appending in x and y to plot bar graph\n",
    "for key in d:\n",
    "    if count == 5:\n",
    "        break\n",
    "    print(key , d[key])\n",
    "    x.append(key)\n",
    "    y.append(d[key])\n",
    "    count += 1\n",
    "\n",
    "## plotting bar graph of location vs no. of times it is funded\n",
    "plt.bar(x , y , width = 0.7)\n",
    "plt.show()\n",
    "                     "
   ]
  },
  {
   "cell_type": "markdown",
   "metadata": {},
   "source": [
    "### 2 . Top 5 investors who have invested maximum number of times (considering repeat investments in one company also)"
   ]
  },
  {
   "cell_type": "code",
   "execution_count": 24,
   "metadata": {},
   "outputs": [
    {
     "name": "stdout",
     "output_type": "stream",
     "text": [
      "Sequoia Capital : 64 times\n",
      "Accel Partners : 53 times\n",
      "Kalaari Capital : 44 times\n",
      "SAIF Partners : 41 times\n",
      "Indian Angel Network : 40 times\n"
     ]
    }
   ],
   "source": [
    "df = dforiginal.copy()\n",
    "\n",
    "## considering NOT NaN values only in InvestorsName column\n",
    "df = df[pd.notna(df.InvestorsName)]\n",
    "inv_name = df.InvestorsName\n",
    "\n",
    "# a dictionary to store count of no. of times an investor has invested.\n",
    "d = {}\n",
    "for row in inv_name.iteritems():\n",
    "    \n",
    "    ## as row[0] will contain row label so using row[1] and splitting investor's name (since multiple investors are possible)\n",
    "    ##to get one name at a time in next for loop\n",
    "    v = row[1].split(',')\n",
    "    for i in v:\n",
    "        i = i.strip()\n",
    "        d[i] = d.get(i,0) + 1\n",
    "\n",
    "## sorting dict d in descending order of values \n",
    "d = {k: v for k, v in sorted(d.items(), key=lambda item: item[1] , reverse = True)}\n",
    "\n",
    "## priting top 5 Investors present in dict d \n",
    "count = 0\n",
    "for k,v in d.items():\n",
    "    if(count == 5):\n",
    "        break\n",
    "    print(k, ':' , int(v) , 'times')\n",
    "    count += 1"
   ]
  },
  {
   "cell_type": "markdown",
   "metadata": {},
   "source": [
    "### 3 . Top 5 investors who have invested maximum number of times (NOT considering repeat investments in one company) [BETTER VERSION]"
   ]
  },
  {
   "cell_type": "code",
   "execution_count": 25,
   "metadata": {},
   "outputs": [
    {
     "name": "stdout",
     "output_type": "stream",
     "text": [
      "Sequoia Capital : 48 times\n",
      "Accel Partners : 47 times\n",
      "Kalaari Capital : 41 times\n",
      "Indian Angel Network : 41 times\n",
      "Blume Ventures : 36 times\n"
     ]
    }
   ],
   "source": [
    "df = dforiginal.copy()\n",
    "\n",
    "## considering NON NaN values only\n",
    "df = df[pd.notna(df.InvestorsName)]\n",
    "df = df[pd.notna(df.StartupName)]\n",
    "\n",
    "## handling name issues \n",
    "df['StartupName'].replace(\"Flipkart.com\", \"Flipkart\", inplace = True)\n",
    "df['StartupName'].replace(\"Ola Cabs\", \"Ola\",inplace = True)\n",
    "df['StartupName'].replace(\"Olacabs\", \"Ola\",inplace = True)\n",
    "df['StartupName'].replace(\"OYO Rooms\", \"Oyo\",inplace = True)\n",
    "df['StartupName'].replace(\"Oyo Rooms\", \"Oyo\",inplace = True)\n",
    "df['StartupName'].replace(\"OyoRooms\", \"Oyo\",inplace = True)\n",
    "df['StartupName'].replace(\"Oyorooms\", \"Oyo\",inplace = True)\n",
    "df['StartupName'].replace(\"Paytm Marketplace\", \"Paytm\",inplace = True)\n",
    "    \n",
    "inv_name = df.InvestorsName\n",
    "\n",
    "## a dictionary to store count of no. of times an investor has invested.\n",
    "d = {}\n",
    "\n",
    "## a set to store investor + startup's name clubbed together ensuring repeat investments are not considered in a startup\n",
    "## by an investor \n",
    "visited = set()\n",
    "\n",
    "## iterating in dataframe rowwise\n",
    "for index , row in df.iterrows():\n",
    "\n",
    "##  As a startup may have multiple investor's in a row , so splitting each name\n",
    "    inv = row.InvestorsName.split(',')\n",
    "\n",
    "## trimming extra spaces from left and right and also converting investor's name in title case for fair comparison\n",
    "    inv = list(map(str.strip , inv))\n",
    "    inv = list(map(str.title , inv))\n",
    "    company = row.StartupName.strip()\n",
    "\n",
    "## iterating over each investor int the current row, one at a time\n",
    "    for i in inv:\n",
    "\n",
    "## Ensuring Undisclosed investors , '' names and repeat investment in a company by an investor is not taken into account\n",
    "        if (i+company) not in visited and i!= 'Undisclosed Investors' and i!= '':\n",
    "            d[i] = d.get(i,0) + 1\n",
    "            visited.add(i+company)\n",
    "\n",
    "## sorting dict d in descending order of values         \n",
    "d = {k: v for k, v in sorted(d.items(), key=lambda item: item[1] , reverse = True)}\n",
    "\n",
    "## priting top 5 Investors present in dict d \n",
    "count = 0\n",
    "for k,v in d.items():\n",
    "    if(count == 5):\n",
    "        break\n",
    "    print(k, ':' , int(v) , 'times')\n",
    "    count += 1"
   ]
  },
  {
   "cell_type": "markdown",
   "metadata": {},
   "source": [
    "### 4 . Top 5 investors who have invested in a different number of startups and their investment type is Crowdfunding or Seed Funding. "
   ]
  },
  {
   "cell_type": "code",
   "execution_count": 26,
   "metadata": {},
   "outputs": [
    {
     "name": "stdout",
     "output_type": "stream",
     "text": [
      "Indian Angel Network : 34 times\n",
      "Rajan Anandan : 23 times\n",
      "Group Of Angel Investors : 19 times\n",
      "Letsventure : 16 times\n",
      "Anupam Mittal : 16 times\n"
     ]
    }
   ],
   "source": [
    "df = dforiginal.copy()\n",
    "\n",
    "## considering NOT NaN values only\n",
    "df = df[pd.notna(df.InvestorsName)]\n",
    "df = df[pd.notna(df.StartupName)]\n",
    "\n",
    "## handling issues in names\n",
    "df.InvestmentType.replace('SeedFunding' , 'Seed Funding' , inplace = True)\n",
    "df.InvestmentType.replace('PrivateEquity' , 'Private Equity' , inplace = True)\n",
    "df.InvestmentType.replace('Crowd funding' , 'Crowd Funding' , inplace = True)\n",
    "df['StartupName'].replace(\"Flipkart.com\", \"Flipkart\", inplace = True)\n",
    "df['StartupName'].replace(\"Ola Cabs\", \"Ola\",inplace = True)\n",
    "df['StartupName'].replace(\"Olacabs\", \"Ola\",inplace = True)\n",
    "df['StartupName'].replace(\"OYO Rooms\", \"Oyo\",inplace = True)\n",
    "df['StartupName'].replace(\"Oyo Rooms\", \"Oyo\",inplace = True)\n",
    "df['StartupName'].replace(\"OyoRooms\", \"Oyo\",inplace = True)\n",
    "df['StartupName'].replace(\"Oyorooms\", \"Oyo\",inplace = True)\n",
    "df['StartupName'].replace(\"Paytm Marketplace\", \"Paytm\",inplace = True)\n",
    "\n",
    "## a set to store investor + startup's name clubbed together ensuring repeat investments are not considered in a startup\n",
    "## by an investor \n",
    "visited = set()\n",
    "\n",
    "## a dictionary to store count of no. of times an investor has invested.\n",
    "d = {}\n",
    "\n",
    "## iterating in dataframe rowwise\n",
    "for index , row in df.iterrows():\n",
    "\n",
    "## considering the required investment types\n",
    "    if row['InvestmentType'] == \"Seed Funding\" or row['InvestmentType'] == 'Crowd Funding':\n",
    "\n",
    "##  As a startup may have multiple investor's in a row , so splitting each name\n",
    "        inv = row.InvestorsName.split(',')\n",
    "\n",
    "## trimming extra spaces from left and right and also converting investor's name in title case for fair comparison\n",
    "        inv = list(map(str.strip , inv))\n",
    "        inv = list(map(str.title , inv))\n",
    "        company = row.StartupName.strip()\n",
    "\n",
    "## iterating over each investor in the current row , one at a time\n",
    "        for i in inv:\n",
    "\n",
    "## Ensuring Undisclosed investors , '' names and repeat investment in a company by an investor is not taken into account\n",
    "            if (i+company) not in visited and i!= 'Undisclosed Investors' and i!= 'Undisclosed Investor' and i!= '':\n",
    "                d[i] = d.get(i,0) + 1\n",
    "                visited.add(i+company)\n",
    "\n",
    "\n",
    "## sorting dict d in descending order of values\n",
    "d = {k: v for k, v in sorted(d.items(), key=lambda item: item[1] , reverse = True)}\n",
    "\n",
    "## priting top 5 Investors present in dict d \n",
    "count = 0\n",
    "for k,v in d.items():\n",
    "    if(count == 5):\n",
    "        break\n",
    "    print(k, ':' , int(v) , 'times')\n",
    "    count += 1\n",
    "        \n",
    "        \n",
    "        \n",
    "        \n",
    "        \n",
    "        "
   ]
  },
  {
   "cell_type": "markdown",
   "metadata": {},
   "source": [
    "### 5 .  Top 5 investors who have invested in a different number of startups and their investment type is Private Equity."
   ]
  },
  {
   "cell_type": "code",
   "execution_count": 27,
   "metadata": {},
   "outputs": [
    {
     "name": "stdout",
     "output_type": "stream",
     "text": [
      "Sequoia Capital : 45 times\n",
      "Accel Partners : 43 times\n",
      "Kalaari Capital : 35 times\n",
      "Blume Ventures : 27 times\n",
      "Saif Partners : 26 times\n"
     ]
    }
   ],
   "source": [
    "df = dforiginal.copy()\n",
    "\n",
    "## considering NOT NaN values only\n",
    "df = df[pd.notna(df.InvestorsName)]\n",
    "df = df[pd.notna(df.StartupName)]\n",
    "\n",
    "## handling issues in names\n",
    "df.InvestmentType.replace('SeedFunding' , 'Seed Funding' , inplace = True)\n",
    "df.InvestmentType.replace('PrivateEquity' , 'Private Equity' , inplace = True)\n",
    "df.InvestmentType.replace('Crowd funding' , 'Crowd Funding' , inplace = True)\n",
    "df['StartupName'].replace(\"Flipkart.com\", \"Flipkart\", inplace = True)\n",
    "df['StartupName'].replace(\"Ola Cabs\", \"Ola\",inplace = True)\n",
    "df['StartupName'].replace(\"Olacabs\", \"Ola\",inplace = True)\n",
    "df['StartupName'].replace(\"OYO Rooms\", \"Oyo\",inplace = True)\n",
    "df['StartupName'].replace(\"Oyo Rooms\", \"Oyo\",inplace = True)\n",
    "df['StartupName'].replace(\"OyoRooms\", \"Oyo\",inplace = True)\n",
    "df['StartupName'].replace(\"Oyorooms\", \"Oyo\",inplace = True)\n",
    "df['StartupName'].replace(\"Paytm Marketplace\", \"Paytm\",inplace = True)\n",
    "\n",
    "## a set to store investor + startup's name clubbed together ensuring repeat investments are not considered in a startup\n",
    "## by an investor \n",
    "visited = set()\n",
    "\n",
    "## a dictionary to store count of no. of times an investor has invested.\n",
    "d = {}\n",
    "\n",
    "## iterating in dataframe rowwise\n",
    "for index , row in df.iterrows():\n",
    "\n",
    "## considering the required investment type\n",
    "    if row['InvestmentType'] == \"Private Equity\":\n",
    "\n",
    "##  As a startup may have multiple investor's in a row , so splitting each name\n",
    "        inv = row.InvestorsName.split(',')\n",
    "\n",
    "## trimming extra spaces from left and right and also converting investor's name in title case for fair comparison\n",
    "        inv = list(map(str.strip , inv))\n",
    "        inv = list(map(str.title , inv))\n",
    "        company = row.StartupName.strip()\n",
    "\n",
    "## iterating over each investor in the current row , one at a time\n",
    "        for i in inv:\n",
    "\n",
    "## Ensuring Undisclosed investors , '' names and repeat investment in a company by an investor is not taken into account\n",
    "            if (i+company) not in visited and i!= 'Undisclosed Investors' and i!= 'Undisclosed Investor' and i!= '':\n",
    "                d[i] = d.get(i,0) + 1\n",
    "                visited.add(i+company)\n",
    "\n",
    "## sorting dict d in descending order of values\n",
    "d = {k: v for k, v in sorted(d.items(), key=lambda item: item[1] , reverse = True)}\n",
    "\n",
    "\n",
    "## priting top 5 Investors present in dict d \n",
    "count = 0\n",
    "for k,v in d.items():\n",
    "    if(count == 5):\n",
    "        break\n",
    "    print(k, ':' , int(v) , 'times')\n",
    "    count += 1\n",
    "        "
   ]
  }
 ],
 "metadata": {
  "kernelspec": {
   "display_name": "Python 3",
   "language": "python",
   "name": "python3"
  },
  "language_info": {
   "codemirror_mode": {
    "name": "ipython",
    "version": 3
   },
   "file_extension": ".py",
   "mimetype": "text/x-python",
   "name": "python",
   "nbconvert_exporter": "python",
   "pygments_lexer": "ipython3",
   "version": "3.7.3"
  }
 },
 "nbformat": 4,
 "nbformat_minor": 2
}
